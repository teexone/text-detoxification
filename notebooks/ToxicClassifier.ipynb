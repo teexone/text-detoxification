{
 "cells": [
  {
   "cell_type": "code",
   "execution_count": 1,
   "metadata": {},
   "outputs": [
    {
     "name": "stderr",
     "output_type": "stream",
     "text": [
      "/tmp/ipykernel_799/57501742.py:5: TqdmExperimentalWarning: Using `tqdm.autonotebook.tqdm` in notebook mode. Use `tqdm.tqdm` instead to force console mode (e.g. in jupyter console)\n",
      "  from tqdm.autonotebook import trange\n"
     ]
    }
   ],
   "source": [
    "import os\n",
    "import numpy as np\n",
    "import pickle\n",
    "import sentencepiece as spm\n",
    "from tqdm.autonotebook import trange\n",
    "\n",
    "import pytorch_lightning as L\n",
    "import torch.nn as nn\n",
    "import torch"
   ]
  },
  {
   "cell_type": "code",
   "execution_count": 2,
   "metadata": {},
   "outputs": [],
   "source": [
    "DATA_FOLDER = os.path.join(os.getcwd(), '..', 'data')\n",
    "TOKENIZER_FOLDER = os.path.join(os.getcwd(), '..', 'models')\n",
    "VOCAB_SIZE = 10000"
   ]
  },
  {
   "cell_type": "markdown",
   "metadata": {},
   "source": [
    "# Toxic Classifiers\n",
    "\n",
    "To classify toxic comments there is a need to firstly understand what means toxic. The dataset contains sentences for which the toxicity score is measured. However, toxicity is not spread into the whole sentence, but it is concentrated in some words. For example, the sentence \"I love you\" is not toxic, but if we change the word \"love\" with \"hate\" the sentence becomes toxic. \n",
    "\n",
    "The purpose of this notebook is to gain knowledge about the toxicity. For this naive word classifier and sentence classifier's will be built. Also, a classifier used in the original paper will be evaluated against my solutions"
   ]
  },
  {
   "cell_type": "markdown",
   "metadata": {},
   "source": [
    "## Loading Data\n",
    "\n",
    "Let us load data previously tokenized with sentencepience model. Also, let us load the tokenizer to have access to the vocabulary."
   ]
  },
  {
   "cell_type": "code",
   "execution_count": 3,
   "metadata": {},
   "outputs": [
    {
     "data": {
      "text/plain": [
       "True"
      ]
     },
     "execution_count": 3,
     "metadata": {},
     "output_type": "execute_result"
    }
   ],
   "source": [
    "# Load dataset\n",
    "train = pickle.load(open(os.path.join(DATA_FOLDER, 'interim', 'train.pkl'), 'rb'))\n",
    "\n",
    "test = pickle.load(open(os.path.join(DATA_FOLDER, 'interim', 'test.pkl'), 'rb'))\n",
    "test_corpus = test['reference'] + test['translation']\n",
    "test_scores = np.concatenate((test['ref_tox'], test['trn_tox']))\n",
    "\n",
    "val = pickle.load(open(os.path.join(DATA_FOLDER, 'interim', 'val.pkl'), 'rb'))\n",
    "val_corpus = val['reference'] + val['translation']\n",
    "val_scores = np.concatenate((val['ref_tox'], val['trn_tox']))\n",
    "\n",
    "# Load tokenizer\n",
    "tokenizer = spm.SentencePieceProcessor()\n",
    "tokenizer.Load(os.path.join(TOKENIZER_FOLDER, 'tokenizer.model'))"
   ]
  },
  {
   "cell_type": "code",
   "execution_count": 4,
   "metadata": {},
   "outputs": [],
   "source": [
    "corpus = train['reference'] + train['translation']\n",
    "scores = np.concatenate((train['ref_tox'], train['trn_tox']))"
   ]
  },
  {
   "cell_type": "markdown",
   "metadata": {},
   "source": [
    "Save the maximum length of a sentence in the dataset. This will be used later to pad the sentences."
   ]
  },
  {
   "cell_type": "code",
   "execution_count": 5,
   "metadata": {},
   "outputs": [],
   "source": [
    "MAX_LEN = np.max([len(sentence) for sentence in corpus])"
   ]
  },
  {
   "cell_type": "code",
   "execution_count": 6,
   "metadata": {},
   "outputs": [],
   "source": [
    "assert tokenizer.vocab_size() == VOCAB_SIZE"
   ]
  },
  {
   "cell_type": "markdown",
   "metadata": {},
   "source": [
    "## Frequency Calculation\n",
    "\n",
    "Let us calculate the frequency of each token in the dataset. This will help us to understand the distribution of the words in the dataset."
   ]
  },
  {
   "cell_type": "code",
   "execution_count": 7,
   "metadata": {},
   "outputs": [],
   "source": [
    "total = 0\n",
    "freq = np.zeros(VOCAB_SIZE)\n",
    "\n",
    "for tox, sentence in zip(scores, corpus):\n",
    "    total += len(sentence)\n",
    "    for word in sentence:\n",
    "        freq[word] += tox * (-1 if tox < 0.5 else 1)\n",
    "        \n",
    "freq = freq / total"
   ]
  },
  {
   "cell_type": "code",
   "execution_count": 8,
   "metadata": {},
   "outputs": [],
   "source": [
    "def oov(_i):\n",
    "    return np.finfo(np.float32).eps if _i >= freq.shape[0] else freq[_i]\n",
    "\n",
    "Xi = [[freq[word] for word in sentence] for sentence in corpus]\n",
    "yi = scores\n",
    "\n",
    "valXi = [[oov(word) for word in sentence] for sentence in val_corpus]\n",
    "valyi = val_scores\n",
    "\n",
    "testXi = [[oov(word) for word in sentence] for sentence in test_corpus]\n",
    "testyi = test_scores"
   ]
  },
  {
   "cell_type": "markdown",
   "metadata": {},
   "source": [
    "# Building a Naive Sentence classifier"
   ]
  },
  {
   "cell_type": "markdown",
   "metadata": {},
   "source": [
    "Let us build a naive sentence classifier. The classifier will be based on the frequency of the tokens in the sentence. The sentence will be classified as toxic if the sum of the frequency of the tokens is greater than a threshold. The only parameter of the classifier is the threshold, which will be optimized using linear search."
   ]
  },
  {
   "cell_type": "markdown",
   "metadata": {},
   "source": [
    "### Data Preparation\n",
    "\n",
    "Let us add padding to the sentences and calculate the frequency of the tokens in each sentence."
   ]
  },
  {
   "cell_type": "code",
   "execution_count": 9,
   "metadata": {},
   "outputs": [
    {
     "data": {
      "application/vnd.jupyter.widget-view+json": {
       "model_id": "dc5a6aa273eb446e841be6a047b31250",
       "version_major": 2,
       "version_minor": 0
      },
      "text/plain": [
       "  0%|          | 0/100 [00:00<?, ?it/s]"
      ]
     },
     "metadata": {},
     "output_type": "display_data"
    },
    {
     "name": "stderr",
     "output_type": "stream",
     "text": [
      "/tmp/ipykernel_482/1346193835.py:7: UserWarning: To copy construct from a tensor, it is recommended to use sourceTensor.clone().detach() or sourceTensor.clone().detach().requires_grad_(True), rather than torch.tensor(sourceTensor).\n",
      "  loss = torch.mean((y - alpha * torch.tensor(X)) ** 2)\n"
     ]
    },
    {
     "name": "stdout",
     "output_type": "stream",
     "text": [
      "Epoch 0 Loss: 0.46845304633528545\n",
      "Epoch 1 Loss: 0.4350812683523954\n",
      "Epoch 2 Loss: 0.40414133500680366\n",
      "Epoch 3 Loss: 0.4151755981182559\n",
      "Epoch 4 Loss: 0.4174811234736763\n",
      "Epoch 5 Loss: 0.3954872702266928\n",
      "Epoch 6 Loss: 0.4099972022303072\n",
      "Epoch 7 Loss: 0.38102171325239564\n",
      "Epoch 8 Loss: 0.40062770337396325\n",
      "Epoch 9 Loss: 0.41695560789333685\n",
      "Epoch 10 Loss: 0.3836447205132132\n",
      "Epoch 11 Loss: 0.3739991509394266\n",
      "Epoch 12 Loss: 0.3903340458570954\n",
      "Epoch 13 Loss: 0.3517180670852234\n",
      "Epoch 14 Loss: 0.3540070097308201\n",
      "Epoch 15 Loss: 0.33893560359119546\n",
      "Epoch 16 Loss: 0.3629609626139281\n",
      "Epoch 17 Loss: 0.3263081266154309\n",
      "Epoch 18 Loss: 0.3433655753592363\n",
      "Epoch 19 Loss: 0.35611210824477035\n",
      "Epoch 20 Loss: 0.35522165751970014\n",
      "Epoch 21 Loss: 0.3200347889405113\n",
      "Epoch 22 Loss: 0.31760089405739833\n",
      "Epoch 23 Loss: 0.31139568925758976\n",
      "Epoch 24 Loss: 0.30477414723178436\n",
      "Epoch 25 Loss: 0.3265486602042241\n",
      "Epoch 26 Loss: 0.3170179486066642\n",
      "Epoch 27 Loss: 0.30887220419265904\n",
      "Epoch 28 Loss: 0.2851437352533057\n",
      "Epoch 29 Loss: 0.30714779740878767\n",
      "Epoch 30 Loss: 0.2980197045072236\n",
      "Epoch 31 Loss: 0.297677195605471\n",
      "Epoch 32 Loss: 0.2930261339849161\n",
      "Epoch 33 Loss: 0.2978303755361902\n",
      "Epoch 34 Loss: 0.29276098437817466\n",
      "Epoch 35 Loss: 0.29020185353735717\n",
      "Epoch 36 Loss: 0.26141693620110906\n",
      "Epoch 37 Loss: 0.26880540623877114\n",
      "Epoch 38 Loss: 0.275492215880557\n",
      "Epoch 39 Loss: 0.26618433741698844\n",
      "Epoch 40 Loss: 0.27859503811477365\n",
      "Epoch 41 Loss: 0.27459094821500246\n",
      "Epoch 42 Loss: 0.26793112370796834\n",
      "Epoch 43 Loss: 0.2508811052462699\n",
      "Epoch 44 Loss: 0.2534780713495375\n",
      "Epoch 45 Loss: 0.261337987856604\n",
      "Epoch 46 Loss: 0.26098414513867435\n",
      "Epoch 47 Loss: 0.24863882274907795\n",
      "Epoch 48 Loss: 0.2549599447222145\n",
      "Epoch 49 Loss: 0.25050051020359226\n",
      "Epoch 50 Loss: 0.24565173719624595\n",
      "Epoch 51 Loss: 0.2504286038513017\n",
      "Epoch 52 Loss: 0.2508364373582859\n",
      "Epoch 53 Loss: 0.24784320727792375\n",
      "Epoch 54 Loss: 0.24301484049533484\n",
      "Epoch 55 Loss: 0.23524296616903967\n",
      "Epoch 56 Loss: 0.2424466008133065\n",
      "Epoch 57 Loss: 0.23504912657137272\n",
      "Epoch 58 Loss: 0.24015033284699866\n",
      "Epoch 59 Loss: 0.2497780374421763\n",
      "Epoch 60 Loss: 0.24321427258971584\n",
      "Epoch 61 Loss: 0.2319999750589536\n",
      "Epoch 62 Loss: 0.2409828479586546\n",
      "Epoch 63 Loss: 0.23644469754820358\n",
      "Epoch 64 Loss: 0.23847868382858273\n",
      "Epoch 65 Loss: 0.23423399366675557\n",
      "Epoch 66 Loss: 0.23022492968974095\n",
      "Epoch 67 Loss: 0.2318082143737092\n",
      "Epoch 68 Loss: 0.23413070218788315\n",
      "Epoch 69 Loss: 0.22875893450364676\n",
      "Epoch 70 Loss: 0.22891883390413403\n",
      "Epoch 71 Loss: 0.23335713923965723\n",
      "Epoch 72 Loss: 0.22807652454176489\n",
      "Epoch 73 Loss: 0.23675684005912317\n",
      "Epoch 74 Loss: 0.24042192567663312\n",
      "Epoch 75 Loss: 0.23178905628365204\n",
      "Epoch 76 Loss: 0.24272245166469597\n",
      "Epoch 77 Loss: 0.238149815454553\n",
      "Epoch 78 Loss: 0.23330266733582744\n",
      "Epoch 79 Loss: 0.23703634871822032\n",
      "Epoch 80 Loss: 0.2265624951503174\n",
      "Epoch 81 Loss: 0.23813670031747522\n",
      "Epoch 82 Loss: 0.22839936314417703\n",
      "Epoch 83 Loss: 0.23335092528970358\n",
      "Epoch 84 Loss: 0.22474936983974603\n",
      "Epoch 85 Loss: 0.23244245442117492\n",
      "Epoch 86 Loss: 0.24028033727974935\n",
      "Epoch 87 Loss: 0.2370879269089561\n",
      "Epoch 88 Loss: 0.2327882845576872\n",
      "Epoch 89 Loss: 0.2231307042778634\n",
      "Epoch 90 Loss: 0.22189485722980506\n",
      "Epoch 91 Loss: 0.23442705274599596\n",
      "Epoch 92 Loss: 0.23171424156511194\n",
      "Epoch 93 Loss: 0.22959302721382333\n",
      "Epoch 94 Loss: 0.22994509853278094\n",
      "Epoch 95 Loss: 0.22900167681897748\n",
      "Epoch 96 Loss: 0.23952660790193586\n",
      "Epoch 97 Loss: 0.22338096855557407\n",
      "Epoch 98 Loss: 0.23934978825342496\n",
      "Epoch 99 Loss: 0.23195269080836492\n"
     ]
    }
   ],
   "source": [
    "\n",
    "device = 'cuda' if torch.cuda.is_available() else 'cpu'\n",
    "alpha = nn.Parameter(torch.tensor(0.0).to(device))\n",
    "optimizer = torch.optim.Adam([alpha], lr=0.01)\n",
    "\n",
    "def train_step(X, y):\n",
    "    optimizer.zero_grad()\n",
    "    loss = torch.mean((y - alpha * torch.tensor(X)) ** 2)\n",
    "    loss.backward()\n",
    "    optimizer.step()\n",
    "    return loss.item()\n",
    "\n",
    "for j in trange(100):\n",
    "    shuffle = np.random.permutation(len(Xi))\n",
    "    Xi = [Xi[i] for i in shuffle]\n",
    "    yi = [yi[i] for i in shuffle]\n",
    "    for i in range(0, len(Xi), 10000):\n",
    "        batch = Xi[i:i+1024]\n",
    "        batch = [torch.tensor(x).mean() for x in batch]\n",
    "        batch = torch.stack(batch).to(device)\n",
    "        labels = torch.tensor(yi[i:i+1024]).to(device)\n",
    "        loss = train_step(batch, labels)\n",
    "        \n",
    "        if i % (len(Xi) // 4) == 0:\n",
    "            print(f\"Epoch {j} Loss: {loss}\")\n",
    "            "
   ]
  },
  {
   "cell_type": "markdown",
   "metadata": {},
   "source": [
    "### Evaluation\n",
    "\n",
    "Let us evaluate the classifier on the validation set."
   ]
  },
  {
   "cell_type": "code",
   "execution_count": 10,
   "metadata": {},
   "outputs": [
    {
     "name": "stdout",
     "output_type": "stream",
     "text": [
      "env: CUDA_LAUNCH_BLOCKING=1\n"
     ]
    }
   ],
   "source": [
    "%env CUDA_LAUNCH_BLOCKING=1"
   ]
  },
  {
   "cell_type": "code",
   "execution_count": 11,
   "metadata": {},
   "outputs": [
    {
     "name": "stdout",
     "output_type": "stream",
     "text": [
      "Train: (0.49309313077510547, 0.4930931307751054, 0.37267601259451244, 0.48878923766816146, 0.3011394982054039)\n",
      "Val: (0.4922288760427844, 0.4922288760427844, 0.37274437697767904, 0.4874461779343511, 0.30174114714943406)\n",
      "Test: (0.49427117588009273, 0.4942711758800928, 0.37380794205258977, 0.4906886463373467, 0.3018969157810931)\n"
     ]
    }
   ],
   "source": [
    "from sklearn.metrics import roc_auc_score, accuracy_score, f1_score, precision_score, recall_score\n",
    "\n",
    "def evaluate(X, y):\n",
    "    preds = []\n",
    "    for i in range(0, len(X), 128):\n",
    "        batch = X[i:i+128]\n",
    "        batch = [torch.tensor(x).mean() for x in batch]\n",
    "        batch = torch.stack(batch)\n",
    "        batch = batch.to(device)\n",
    "        preds.append(alpha * batch)\n",
    "    preds = torch.cat(preds).cpu().detach().numpy()\n",
    "    preds = np.array([1 if pred > 0.5 else 0 for pred in preds])\n",
    "    y = np.round(y)\n",
    "    return roc_auc_score(y, preds), accuracy_score(y, preds), f1_score(y, preds), precision_score(y, preds), recall_score(y, preds)\n",
    "\n",
    "\n",
    "print(\"Train:\", evaluate(Xi, yi))\n",
    "print(\"Val:\", evaluate(valXi, valyi))\n",
    "print(\"Test:\", evaluate(testXi, testyi))"
   ]
  },
  {
   "cell_type": "markdown",
   "metadata": {},
   "source": [
    "### RNN Classifier\n",
    "\n",
    "Let us build a RNN classifier. The classifier will be based on a RNN network with a single LSTM layer. The output of the LSTM layer will be passed to a fully connected layer with a sigmoid activation function. The output of the sigmoid function will be the probability of the sentence to be toxic."
   ]
  },
  {
   "cell_type": "code",
   "execution_count": 12,
   "metadata": {},
   "outputs": [
    {
     "name": "stdout",
     "output_type": "stream",
     "text": [
      "Requirement already satisfied: lightning in /root/miniconda3/lib/python3.11/site-packages (2.1.0)\n",
      "Requirement already satisfied: PyYAML<8.0,>=5.4 in /root/miniconda3/lib/python3.11/site-packages (from lightning) (6.0.1)\n",
      "Requirement already satisfied: fsspec[http]<2025.0,>2021.06.0 in /root/miniconda3/lib/python3.11/site-packages (from lightning) (2023.10.0)\n",
      "Requirement already satisfied: lightning-utilities<2.0,>=0.8.0 in /root/miniconda3/lib/python3.11/site-packages (from lightning) (0.9.0)\n",
      "Requirement already satisfied: numpy<3.0,>=1.17.2 in /root/miniconda3/lib/python3.11/site-packages (from lightning) (1.26.1)\n",
      "Requirement already satisfied: packaging<25.0,>=20.0 in /root/miniconda3/lib/python3.11/site-packages (from lightning) (23.1)\n",
      "Requirement already satisfied: torch<4.0,>=1.12.0 in /root/miniconda3/lib/python3.11/site-packages (from lightning) (2.1.0+cu121)\n",
      "Requirement already satisfied: torchmetrics<3.0,>=0.7.0 in /root/miniconda3/lib/python3.11/site-packages (from lightning) (1.2.0)\n",
      "Requirement already satisfied: tqdm<6.0,>=4.57.0 in /root/miniconda3/lib/python3.11/site-packages (from lightning) (4.65.0)\n",
      "Requirement already satisfied: typing-extensions<6.0,>=4.0.0 in /root/miniconda3/lib/python3.11/site-packages (from lightning) (4.8.0)\n",
      "Requirement already satisfied: pytorch-lightning in /root/miniconda3/lib/python3.11/site-packages (from lightning) (2.1.0)\n",
      "Requirement already satisfied: requests in /root/miniconda3/lib/python3.11/site-packages (from fsspec[http]<2025.0,>2021.06.0->lightning) (2.31.0)\n",
      "Requirement already satisfied: aiohttp!=4.0.0a0,!=4.0.0a1 in /root/miniconda3/lib/python3.11/site-packages (from fsspec[http]<2025.0,>2021.06.0->lightning) (3.8.6)\n",
      "Requirement already satisfied: filelock in /root/miniconda3/lib/python3.11/site-packages (from torch<4.0,>=1.12.0->lightning) (3.13.0)\n",
      "Requirement already satisfied: sympy in /root/miniconda3/lib/python3.11/site-packages (from torch<4.0,>=1.12.0->lightning) (1.12)\n",
      "Requirement already satisfied: networkx in /root/miniconda3/lib/python3.11/site-packages (from torch<4.0,>=1.12.0->lightning) (3.2.1)\n",
      "Requirement already satisfied: jinja2 in /root/miniconda3/lib/python3.11/site-packages (from torch<4.0,>=1.12.0->lightning) (3.1.2)\n",
      "Requirement already satisfied: triton==2.1.0 in /root/miniconda3/lib/python3.11/site-packages (from torch<4.0,>=1.12.0->lightning) (2.1.0)\n",
      "Requirement already satisfied: attrs>=17.3.0 in /root/miniconda3/lib/python3.11/site-packages (from aiohttp!=4.0.0a0,!=4.0.0a1->fsspec[http]<2025.0,>2021.06.0->lightning) (23.1.0)\n",
      "Requirement already satisfied: charset-normalizer<4.0,>=2.0 in /root/miniconda3/lib/python3.11/site-packages (from aiohttp!=4.0.0a0,!=4.0.0a1->fsspec[http]<2025.0,>2021.06.0->lightning) (2.0.4)\n",
      "Requirement already satisfied: multidict<7.0,>=4.5 in /root/miniconda3/lib/python3.11/site-packages (from aiohttp!=4.0.0a0,!=4.0.0a1->fsspec[http]<2025.0,>2021.06.0->lightning) (6.0.4)\n",
      "Requirement already satisfied: async-timeout<5.0,>=4.0.0a3 in /root/miniconda3/lib/python3.11/site-packages (from aiohttp!=4.0.0a0,!=4.0.0a1->fsspec[http]<2025.0,>2021.06.0->lightning) (4.0.3)\n",
      "Requirement already satisfied: yarl<2.0,>=1.0 in /root/miniconda3/lib/python3.11/site-packages (from aiohttp!=4.0.0a0,!=4.0.0a1->fsspec[http]<2025.0,>2021.06.0->lightning) (1.9.2)\n",
      "Requirement already satisfied: frozenlist>=1.1.1 in /root/miniconda3/lib/python3.11/site-packages (from aiohttp!=4.0.0a0,!=4.0.0a1->fsspec[http]<2025.0,>2021.06.0->lightning) (1.4.0)\n",
      "Requirement already satisfied: aiosignal>=1.1.2 in /root/miniconda3/lib/python3.11/site-packages (from aiohttp!=4.0.0a0,!=4.0.0a1->fsspec[http]<2025.0,>2021.06.0->lightning) (1.3.1)\n",
      "Requirement already satisfied: MarkupSafe>=2.0 in /root/miniconda3/lib/python3.11/site-packages (from jinja2->torch<4.0,>=1.12.0->lightning) (2.1.3)\n",
      "Requirement already satisfied: idna<4,>=2.5 in /root/miniconda3/lib/python3.11/site-packages (from requests->fsspec[http]<2025.0,>2021.06.0->lightning) (3.4)\n",
      "Requirement already satisfied: urllib3<3,>=1.21.1 in /root/miniconda3/lib/python3.11/site-packages (from requests->fsspec[http]<2025.0,>2021.06.0->lightning) (1.26.16)\n",
      "Requirement already satisfied: certifi>=2017.4.17 in /root/miniconda3/lib/python3.11/site-packages (from requests->fsspec[http]<2025.0,>2021.06.0->lightning) (2023.7.22)\n",
      "Requirement already satisfied: mpmath>=0.19 in /root/miniconda3/lib/python3.11/site-packages (from sympy->torch<4.0,>=1.12.0->lightning) (1.3.0)\n",
      "\u001b[33mWARNING: Running pip as the 'root' user can result in broken permissions and conflicting behaviour with the system package manager. It is recommended to use a virtual environment instead: https://pip.pypa.io/warnings/venv\u001b[0m\u001b[33m\n",
      "\u001b[0mNote: you may need to restart the kernel to use updated packages.\n"
     ]
    }
   ],
   "source": [
    "%pip install lightning"
   ]
  },
  {
   "cell_type": "code",
   "execution_count": 13,
   "metadata": {},
   "outputs": [
    {
     "data": {
      "text/plain": [
       "-1"
      ]
     },
     "execution_count": 13,
     "metadata": {},
     "output_type": "execute_result"
    }
   ],
   "source": [
    "tokenizer.pad_id()"
   ]
  },
  {
   "cell_type": "code",
   "execution_count": 18,
   "metadata": {},
   "outputs": [],
   "source": [
    "from torch.utils.data import Dataset, DataLoader\n",
    "\n",
    "class ToxicDataset(Dataset):\n",
    "    def __init__(self, corpus, scores):\n",
    "        self.corpus = corpus\n",
    "        self.scores = scores\n",
    "        \n",
    "    def __len__(self):\n",
    "        return len(self.corpus)\n",
    "    \n",
    "    def __getitem__(self, index):\n",
    "        sentence = self.corpus[index]\n",
    "        sentence = np.array(sentence)\n",
    "        sentence = np.pad(sentence, (0, MAX_LEN - len(sentence)), 'constant', constant_values=0)\n",
    "        return sentence.astype(np.int32), self.scores[index].astype(np.float32)\n",
    "    \n",
    "train_dataset = ToxicDataset(corpus, scores)\n",
    "val_dataset = ToxicDataset(val_corpus, val_scores)\n",
    "test_dataset = ToxicDataset(test_corpus, test_scores)"
   ]
  },
  {
   "cell_type": "code",
   "execution_count": 19,
   "metadata": {},
   "outputs": [],
   "source": [
    "class ToxicClassifier(L.LightningModule):\n",
    "    def __init__(self, vocab_size, embedding_dim, hidden_dim, output_dim, n_layers, dropout):\n",
    "        super().__init__()\n",
    "        \n",
    "        self.embedding = nn.Embedding(vocab_size, embedding_dim)\n",
    "        self.lstm = nn.LSTM(\n",
    "            embedding_dim, \n",
    "            hidden_dim, \n",
    "            num_layers=n_layers, \n",
    "            bidirectional=False, \n",
    "            dropout=dropout, \n",
    "            batch_first=True\n",
    "        )\n",
    "        self.fc = nn.Linear(hidden_dim, output_dim)\n",
    "        self.narrow = nn.Linear(output_dim, 1)\n",
    "        self.sigmoid = nn.Sigmoid()\n",
    "        self.dropout = nn.Dropout(dropout)\n",
    "        \n",
    "    def forward(self, text):\n",
    "        # (batch_size, seq_len) -> (batch_size, seq_len, embedding_dim)\n",
    "        embedded = self.dropout(self.embedding(text))\n",
    "        # (batch_size, seq_len, embedding_dim) -> (batch_size, seq_len, hidden_dim)\n",
    "        _, (hidden, _) = self.lstm(embedded)\n",
    "        # (num_layers, batch_size, hidden_dim) -> (batch_size, hidden_dim)\n",
    "        hidden = hidden.sum(dim=0)\n",
    "        # (batch_size, hidden_dim) -> (batch_size, output_dim)\n",
    "        output = self.fc(hidden)\n",
    "        # (batch_size, output_dim) -> (batch_size, 1)\n",
    "        output = self.narrow(output)\n",
    "        # (batch_size, 1) -> (batch_size)\n",
    "        output = self.sigmoid(output).squeeze(1)\n",
    "        return output\n",
    "    \n",
    "    def training_step(self, batch, batch_idx):\n",
    "        x, y = batch\n",
    "        y_pred = self.forward(x)\n",
    "        loss = nn.functional.mse_loss(y_pred, y)\n",
    "        self.log('train_loss', loss, prog_bar=True)\n",
    "        return loss\n",
    "    \n",
    "    def validation_step(self, batch, batch_idx):\n",
    "        x, y = batch\n",
    "        y_pred = self.forward(x)\n",
    "        loss = nn.functional.mse_loss(y_pred, y)\n",
    "        self.log('val_loss', loss)\n",
    "        return loss\n",
    "    \n",
    "    def configure_optimizers(self):\n",
    "        return torch.optim.Adam(self.parameters(), lr=1e-3)\n",
    "    \n",
    "    def train_dataloader(self):\n",
    "        return DataLoader(train_dataset, batch_size=64, shuffle=True)\n",
    "    \n",
    "    def val_dataloader(self):\n",
    "        return DataLoader(test_dataset, batch_size=64)"
   ]
  },
  {
   "cell_type": "code",
   "execution_count": 22,
   "metadata": {},
   "outputs": [],
   "source": [
    "BATCH_SIZE = 1024\n",
    "\n",
    "train_loader = DataLoader(train_dataset, batch_size=BATCH_SIZE, shuffle=True)\n",
    "val_loader = DataLoader(val_dataset, batch_size=BATCH_SIZE)\n",
    "test_loader = DataLoader(test_dataset, batch_size=BATCH_SIZE)\n",
    "\n",
    "device = torch.device('cuda' if torch.cuda.is_available() else 'cpu')\n",
    "\n",
    "INPUT_DIM = tokenizer.vocab_size()\n",
    "EMBEDDING_DIM = 100\n",
    "HIDDEN_DIM = 256\n",
    "OUTPUT_DIM = 64\n",
    "\n",
    "model = ToxicClassifier(INPUT_DIM, EMBEDDING_DIM, HIDDEN_DIM, OUTPUT_DIM, 2, 0.333)"
   ]
  },
  {
   "cell_type": "code",
   "execution_count": 23,
   "metadata": {},
   "outputs": [
    {
     "name": "stderr",
     "output_type": "stream",
     "text": [
      "GPU available: True (cuda), used: True\n",
      "TPU available: False, using: 0 TPU cores\n",
      "IPU available: False, using: 0 IPUs\n",
      "HPU available: False, using: 0 HPUs\n",
      "LOCAL_RANK: 0 - CUDA_VISIBLE_DEVICES: [0]\n",
      "\n",
      "  | Name      | Type      | Params\n",
      "----------------------------------------\n",
      "0 | embedding | Embedding | 1.0 M \n",
      "1 | lstm      | LSTM      | 892 K \n",
      "2 | fc        | Linear    | 16.4 K\n",
      "3 | narrow    | Linear    | 65    \n",
      "4 | sigmoid   | Sigmoid   | 0     \n",
      "5 | dropout   | Dropout   | 0     \n",
      "----------------------------------------\n",
      "1.9 M     Trainable params\n",
      "0         Non-trainable params\n",
      "1.9 M     Total params\n",
      "7.638     Total estimated model params size (MB)\n"
     ]
    },
    {
     "data": {
      "application/vnd.jupyter.widget-view+json": {
       "model_id": "ad284a60b30d4e749df155982a56e464",
       "version_major": 2,
       "version_minor": 0
      },
      "text/plain": [
       "Sanity Checking: |          | 0/? [00:00<?, ?it/s]"
      ]
     },
     "metadata": {},
     "output_type": "display_data"
    },
    {
     "data": {
      "application/vnd.jupyter.widget-view+json": {
       "model_id": "26d4deb7ecec47b5b9a5d7980a62ab45",
       "version_major": 2,
       "version_minor": 0
      },
      "text/plain": [
       "Training: |          | 0/? [00:00<?, ?it/s]"
      ]
     },
     "metadata": {},
     "output_type": "display_data"
    },
    {
     "data": {
      "application/vnd.jupyter.widget-view+json": {
       "model_id": "5b89ff64462d434dae61f378b9e8212b",
       "version_major": 2,
       "version_minor": 0
      },
      "text/plain": [
       "Validation: |          | 0/? [00:00<?, ?it/s]"
      ]
     },
     "metadata": {},
     "output_type": "display_data"
    },
    {
     "data": {
      "application/vnd.jupyter.widget-view+json": {
       "model_id": "0d467c4bd57546078f6cc118f9708de7",
       "version_major": 2,
       "version_minor": 0
      },
      "text/plain": [
       "Validation: |          | 0/? [00:00<?, ?it/s]"
      ]
     },
     "metadata": {},
     "output_type": "display_data"
    },
    {
     "data": {
      "application/vnd.jupyter.widget-view+json": {
       "model_id": "5be8858fd86746459dfa928215997740",
       "version_major": 2,
       "version_minor": 0
      },
      "text/plain": [
       "Validation: |          | 0/? [00:00<?, ?it/s]"
      ]
     },
     "metadata": {},
     "output_type": "display_data"
    },
    {
     "data": {
      "application/vnd.jupyter.widget-view+json": {
       "model_id": "6dafa01eddef471db5d4a011f45deb67",
       "version_major": 2,
       "version_minor": 0
      },
      "text/plain": [
       "Validation: |          | 0/? [00:00<?, ?it/s]"
      ]
     },
     "metadata": {},
     "output_type": "display_data"
    },
    {
     "data": {
      "application/vnd.jupyter.widget-view+json": {
       "model_id": "f0891eab1d7c4f23bc31ce1d6c519f4f",
       "version_major": 2,
       "version_minor": 0
      },
      "text/plain": [
       "Validation: |          | 0/? [00:00<?, ?it/s]"
      ]
     },
     "metadata": {},
     "output_type": "display_data"
    },
    {
     "data": {
      "application/vnd.jupyter.widget-view+json": {
       "model_id": "9c29802d11044193b89fa2d351cbe743",
       "version_major": 2,
       "version_minor": 0
      },
      "text/plain": [
       "Validation: |          | 0/? [00:00<?, ?it/s]"
      ]
     },
     "metadata": {},
     "output_type": "display_data"
    },
    {
     "data": {
      "application/vnd.jupyter.widget-view+json": {
       "model_id": "fc1da36d7a994edda10ac732627430e7",
       "version_major": 2,
       "version_minor": 0
      },
      "text/plain": [
       "Validation: |          | 0/? [00:00<?, ?it/s]"
      ]
     },
     "metadata": {},
     "output_type": "display_data"
    },
    {
     "data": {
      "application/vnd.jupyter.widget-view+json": {
       "model_id": "1935b11351b043fc8dfa70b44af5f8fb",
       "version_major": 2,
       "version_minor": 0
      },
      "text/plain": [
       "Validation: |          | 0/? [00:00<?, ?it/s]"
      ]
     },
     "metadata": {},
     "output_type": "display_data"
    },
    {
     "name": "stderr",
     "output_type": "stream",
     "text": [
      "`Trainer.fit` stopped: `max_epochs=2` reached.\n"
     ]
    }
   ],
   "source": [
    "trainer = L.Trainer(\n",
    "    accelerator='gpu',\n",
    "    max_epochs=2,\n",
    "    val_check_interval=0.25,\n",
    ")\n",
    "trainer.fit(model, train_loader, val_loader)\n"
   ]
  },
  {
   "cell_type": "code",
   "execution_count": 24,
   "metadata": {},
   "outputs": [
    {
     "name": "stderr",
     "output_type": "stream",
     "text": [
      "/root/miniconda3/lib/python3.11/site-packages/pytorch_lightning/trainer/connectors/checkpoint_connector.py:145: `.validate(ckpt_path=None)` was called without a model. The best model of the previous `fit` call will be used. You can pass `.validate(ckpt_path='best')` to use the best model or `.validate(ckpt_path='last')` to use the last model. If you pass a value, this warning will be silenced.\n",
      "Restoring states from the checkpoint path at /shared/detoxification/notebooks/lightning_logs/version_37/checkpoints/epoch=1-step=1803.ckpt\n",
      "LOCAL_RANK: 0 - CUDA_VISIBLE_DEVICES: [0]\n",
      "Loaded model weights from the checkpoint at /shared/detoxification/notebooks/lightning_logs/version_37/checkpoints/epoch=1-step=1803.ckpt\n"
     ]
    },
    {
     "data": {
      "application/vnd.jupyter.widget-view+json": {
       "model_id": "6d3e87ac68bf4b07baff908f54dfe6c5",
       "version_major": 2,
       "version_minor": 0
      },
      "text/plain": [
       "Validation: |          | 0/? [00:00<?, ?it/s]"
      ]
     },
     "metadata": {},
     "output_type": "display_data"
    },
    {
     "name": "stdout",
     "output_type": "stream",
     "text": [
      "────────────────────────────────────────────────────────────────────────────────────────────────────────────────────────\n",
      "     Validate metric           DataLoader 0\n",
      "────────────────────────────────────────────────────────────────────────────────────────────────────────────────────────\n",
      "        val_loss            0.2130133956670761\n",
      "────────────────────────────────────────────────────────────────────────────────────────────────────────────────────────\n"
     ]
    },
    {
     "data": {
      "text/plain": [
       "[{'val_loss': 0.2130133956670761}]"
      ]
     },
     "execution_count": 24,
     "metadata": {},
     "output_type": "execute_result"
    }
   ],
   "source": [
    "trainer.validate()"
   ]
  },
  {
   "cell_type": "markdown",
   "metadata": {},
   "source": [
    "# Fine-Tuning RoBERTa Classifier"
   ]
  },
  {
   "cell_type": "code",
   "execution_count": 3,
   "metadata": {},
   "outputs": [
    {
     "name": "stderr",
     "output_type": "stream",
     "text": [
      "Some weights of the model checkpoint at SkolkovoInstitute/roberta_toxicity_classifier were not used when initializing RobertaForSequenceClassification: ['roberta.pooler.dense.weight', 'roberta.pooler.dense.bias']\n",
      "- This IS expected if you are initializing RobertaForSequenceClassification from the checkpoint of a model trained on another task or with another architecture (e.g. initializing a BertForSequenceClassification model from a BertForPreTraining model).\n",
      "- This IS NOT expected if you are initializing RobertaForSequenceClassification from the checkpoint of a model that you expect to be exactly identical (initializing a BertForSequenceClassification model from a BertForSequenceClassification model).\n"
     ]
    }
   ],
   "source": [
    "from transformers import RobertaTokenizer, RobertaForSequenceClassification\n",
    "\n",
    "tokenizer = RobertaTokenizer.from_pretrained('SkolkovoInstitute/roberta_toxicity_classifier')\n",
    "model = RobertaForSequenceClassification.from_pretrained('SkolkovoInstitute/roberta_toxicity_classifier')"
   ]
  },
  {
   "cell_type": "code",
   "execution_count": 4,
   "metadata": {},
   "outputs": [],
   "source": [
    "import pandas as pd\n",
    "\n",
    "df = pd.read_csv(os.path.join(DATA_FOLDER, 'raw', 'filtered.tsv'), sep='\\t')\n",
    "\n",
    "reference = df['reference'].tolist()\n",
    "translation = df['translation'].tolist()\n",
    "ref_tox = df['ref_tox'].tolist()\n",
    "trn_tox = df['trn_tox'].tolist()\n",
    "\n",
    "text_corpus = reference + translation\n",
    "tox = ref_tox + trn_tox"
   ]
  },
  {
   "cell_type": "code",
   "execution_count": 5,
   "metadata": {},
   "outputs": [
    {
     "data": {
      "text/html": [
       "<div>\n",
       "<style scoped>\n",
       "    .dataframe tbody tr th:only-of-type {\n",
       "        vertical-align: middle;\n",
       "    }\n",
       "\n",
       "    .dataframe tbody tr th {\n",
       "        vertical-align: top;\n",
       "    }\n",
       "\n",
       "    .dataframe thead th {\n",
       "        text-align: right;\n",
       "    }\n",
       "</style>\n",
       "<table border=\"1\" class=\"dataframe\">\n",
       "  <thead>\n",
       "    <tr style=\"text-align: right;\">\n",
       "      <th></th>\n",
       "      <th>Unnamed: 0</th>\n",
       "      <th>reference</th>\n",
       "      <th>translation</th>\n",
       "      <th>similarity</th>\n",
       "      <th>lenght_diff</th>\n",
       "      <th>ref_tox</th>\n",
       "      <th>trn_tox</th>\n",
       "    </tr>\n",
       "  </thead>\n",
       "  <tbody>\n",
       "    <tr>\n",
       "      <th>0</th>\n",
       "      <td>0</td>\n",
       "      <td>If Alkar is flooding her with psychic waste, t...</td>\n",
       "      <td>if Alkar floods her with her mental waste, it ...</td>\n",
       "      <td>0.785171</td>\n",
       "      <td>0.010309</td>\n",
       "      <td>0.014195</td>\n",
       "      <td>0.981983</td>\n",
       "    </tr>\n",
       "    <tr>\n",
       "      <th>1</th>\n",
       "      <td>1</td>\n",
       "      <td>Now you're getting nasty.</td>\n",
       "      <td>you're becoming disgusting.</td>\n",
       "      <td>0.749687</td>\n",
       "      <td>0.071429</td>\n",
       "      <td>0.065473</td>\n",
       "      <td>0.999039</td>\n",
       "    </tr>\n",
       "    <tr>\n",
       "      <th>2</th>\n",
       "      <td>2</td>\n",
       "      <td>Well, we could spare your life, for one.</td>\n",
       "      <td>well, we can spare your life.</td>\n",
       "      <td>0.919051</td>\n",
       "      <td>0.268293</td>\n",
       "      <td>0.213313</td>\n",
       "      <td>0.985068</td>\n",
       "    </tr>\n",
       "    <tr>\n",
       "      <th>3</th>\n",
       "      <td>3</td>\n",
       "      <td>Ah! Monkey, you've got to snap out of it.</td>\n",
       "      <td>monkey, you have to wake up.</td>\n",
       "      <td>0.664333</td>\n",
       "      <td>0.309524</td>\n",
       "      <td>0.053362</td>\n",
       "      <td>0.994215</td>\n",
       "    </tr>\n",
       "    <tr>\n",
       "      <th>4</th>\n",
       "      <td>4</td>\n",
       "      <td>I've got orders to put her down.</td>\n",
       "      <td>I have orders to kill her.</td>\n",
       "      <td>0.726639</td>\n",
       "      <td>0.181818</td>\n",
       "      <td>0.009402</td>\n",
       "      <td>0.999348</td>\n",
       "    </tr>\n",
       "  </tbody>\n",
       "</table>\n",
       "</div>"
      ],
      "text/plain": [
       "   Unnamed: 0                                          reference  \\\n",
       "0           0  If Alkar is flooding her with psychic waste, t...   \n",
       "1           1                          Now you're getting nasty.   \n",
       "2           2           Well, we could spare your life, for one.   \n",
       "3           3          Ah! Monkey, you've got to snap out of it.   \n",
       "4           4                   I've got orders to put her down.   \n",
       "\n",
       "                                         translation  similarity  lenght_diff  \\\n",
       "0  if Alkar floods her with her mental waste, it ...    0.785171     0.010309   \n",
       "1                        you're becoming disgusting.    0.749687     0.071429   \n",
       "2                      well, we can spare your life.    0.919051     0.268293   \n",
       "3                       monkey, you have to wake up.    0.664333     0.309524   \n",
       "4                         I have orders to kill her.    0.726639     0.181818   \n",
       "\n",
       "    ref_tox   trn_tox  \n",
       "0  0.014195  0.981983  \n",
       "1  0.065473  0.999039  \n",
       "2  0.213313  0.985068  \n",
       "3  0.053362  0.994215  \n",
       "4  0.009402  0.999348  "
      ]
     },
     "execution_count": 5,
     "metadata": {},
     "output_type": "execute_result"
    }
   ],
   "source": [
    "df.head()"
   ]
  },
  {
   "cell_type": "code",
   "execution_count": 6,
   "metadata": {},
   "outputs": [
    {
     "ename": "NameError",
     "evalue": "name 'device' is not defined",
     "output_type": "error",
     "traceback": [
      "\u001b[0;31m---------------------------------------------------------------------------\u001b[0m",
      "\u001b[0;31mNameError\u001b[0m                                 Traceback (most recent call last)",
      "Cell \u001b[0;32mIn[6], line 1\u001b[0m\n\u001b[0;32m----> 1\u001b[0m model\u001b[39m.\u001b[39mto(device)\n",
      "\u001b[0;31mNameError\u001b[0m: name 'device' is not defined"
     ]
    }
   ],
   "source": [
    "model.to(device)"
   ]
  },
  {
   "cell_type": "code",
   "execution_count": null,
   "metadata": {},
   "outputs": [
    {
     "data": {
      "text/plain": [
       "RobertaForSequenceClassification(\n",
       "  (roberta): RobertaModel(\n",
       "    (embeddings): RobertaEmbeddings(\n",
       "      (word_embeddings): Embedding(50265, 768, padding_idx=1)\n",
       "      (position_embeddings): Embedding(514, 768, padding_idx=1)\n",
       "      (token_type_embeddings): Embedding(1, 768)\n",
       "      (LayerNorm): LayerNorm((768,), eps=1e-05, elementwise_affine=True)\n",
       "      (dropout): Dropout(p=0.1, inplace=False)\n",
       "    )\n",
       "    (encoder): RobertaEncoder(\n",
       "      (layer): ModuleList(\n",
       "        (0-11): 12 x RobertaLayer(\n",
       "          (attention): RobertaAttention(\n",
       "            (self): RobertaSelfAttention(\n",
       "              (query): Linear(in_features=768, out_features=768, bias=True)\n",
       "              (key): Linear(in_features=768, out_features=768, bias=True)\n",
       "              (value): Linear(in_features=768, out_features=768, bias=True)\n",
       "              (dropout): Dropout(p=0.1, inplace=False)\n",
       "            )\n",
       "            (output): RobertaSelfOutput(\n",
       "              (dense): Linear(in_features=768, out_features=768, bias=True)\n",
       "              (LayerNorm): LayerNorm((768,), eps=1e-05, elementwise_affine=True)\n",
       "              (dropout): Dropout(p=0.1, inplace=False)\n",
       "            )\n",
       "          )\n",
       "          (intermediate): RobertaIntermediate(\n",
       "            (dense): Linear(in_features=768, out_features=3072, bias=True)\n",
       "            (intermediate_act_fn): GELUActivation()\n",
       "          )\n",
       "          (output): RobertaOutput(\n",
       "            (dense): Linear(in_features=3072, out_features=768, bias=True)\n",
       "            (LayerNorm): LayerNorm((768,), eps=1e-05, elementwise_affine=True)\n",
       "            (dropout): Dropout(p=0.1, inplace=False)\n",
       "          )\n",
       "        )\n",
       "      )\n",
       "    )\n",
       "  )\n",
       "  (classifier): RobertaClassificationHead(\n",
       "    (dense): Linear(in_features=768, out_features=768, bias=True)\n",
       "    (dropout): Dropout(p=0.1, inplace=False)\n",
       "    (out_proj): Linear(in_features=768, out_features=2, bias=True)\n",
       "  )\n",
       ")"
      ]
     },
     "execution_count": 53,
     "metadata": {},
     "output_type": "execute_result"
    }
   ],
   "source": [
    "model.to(device)"
   ]
  },
  {
   "cell_type": "code",
   "execution_count": null,
   "metadata": {},
   "outputs": [
    {
     "data": {
      "application/vnd.jupyter.widget-view+json": {
       "model_id": "d648b176de03442aaef9a122ef0173a1",
       "version_major": 2,
       "version_minor": 0
      },
      "text/plain": [
       "  0%|          | 0/1129 [00:00<?, ?it/s]"
      ]
     },
     "metadata": {},
     "output_type": "display_data"
    },
    {
     "data": {
      "text/plain": [
       "0.007597915964621088"
      ]
     },
     "execution_count": 64,
     "metadata": {},
     "output_type": "execute_result"
    }
   ],
   "source": [
    "from tqdm.autonotebook import tqdm\n",
    "\n",
    "mse = 0\n",
    "mse_f = torch.nn.MSELoss(reduction='sum')\n",
    "for i in tqdm(range(0, len(text_corpus), 1024)):\n",
    "    batch = text_corpus[i:i+100]\n",
    "    batch = tokenizer(batch, padding=True, truncation=True, return_tensors='pt')\n",
    "    batch = batch.to(device)\n",
    "    y_pred = model(**batch)[0].squeeze(1)\n",
    "    y_pred = torch.softmax(y_pred, -1)[:, 1].cpu().detach().numpy()\n",
    "    mse += mse_f(torch.tensor(y_pred), torch.tensor(tox[i:i+100])).item()\n",
    "    \n",
    "mse / len(text_corpus)"
   ]
  },
  {
   "cell_type": "code",
   "execution_count": 7,
   "metadata": {},
   "outputs": [],
   "source": [
    "from sklearn.metrics import roc_auc_score, accuracy_score, f1_score, precision_score, recall_score\n",
    "from transformers import Trainer, TrainingArguments\n",
    "\n",
    "\n",
    "def fine_tune_roberta(\n",
    "    model: RobertaForSequenceClassification,\n",
    "    tokenizer: RobertaTokenizer,\n",
    "    corpus: list,\n",
    "    scores: list,\n",
    "    validation_corpus: list,\n",
    "    validation_scores: list,\n",
    "    batch_size: int,\n",
    "    max_epochs: int,\n",
    "    learning_rate: float,\n",
    "    output_dir: str,\n",
    "):\n",
    "    def tokenize(batch):\n",
    "        inputs = tokenizer(\n",
    "            batch['text'], \n",
    "            padding='longest', \n",
    "            truncation=True, \n",
    "            max_length=512\n",
    "        )\n",
    "        batch['input_ids'] = inputs['input_ids']\n",
    "        batch['attention_mask'] = inputs['attention_mask']\n",
    "        # Convert label to two labels\n",
    "        batch['label'] = [1 if label > 0.5 else 0 for label in batch['label']]\n",
    "        \n",
    "        return batch\n",
    "    \n",
    "    train_dataset = pd.DataFrame({'text': corpus, 'label': scores})\n",
    "    validation_dataset = pd.DataFrame({'text': validation_corpus, 'label': validation_scores})\n",
    "    \n",
    "    train_dataset = Dataset.from_pandas(train_dataset)\n",
    "    validation_dataset = Dataset.from_pandas(validation_dataset)\n",
    "    \n",
    "    train_dataset = train_dataset.map(tokenize, batched=True, batch_size=batch_size, num_proc=4)\n",
    "    validation_dataset = validation_dataset.map(tokenize, batched=True, batch_size=batch_size, num_proc=4)\n",
    "    \n",
    "    train_dataset.set_format('torch', columns=['input_ids', 'attention_mask', 'label'])\n",
    "    validation_dataset.set_format('torch', columns=['input_ids', 'attention_mask', 'label'])\n",
    "    \n",
    "    training_args = TrainingArguments(\n",
    "        output_dir='output_dir',\n",
    "        num_train_epochs=max_epochs,\n",
    "        per_device_train_batch_size=batch_size,\n",
    "        per_device_eval_batch_size=batch_size,\n",
    "        warmup_steps=500,\n",
    "        weight_decay=0.01,\n",
    "        logging_steps=10,\n",
    "        eval_steps=100,\n",
    "        save_steps=100,\n",
    "        learning_rate=learning_rate,\n",
    "        load_best_model_at_end=True,\n",
    "        evaluation_strategy='steps',\n",
    "        report_to='none',\n",
    "    )\n",
    "    \n",
    "    def compute_metrics(pred):\n",
    "        labels = pred.label_ids\n",
    "        preds = pred.predictions.argmax(-1)\n",
    "        acc = accuracy_score(labels, preds)\n",
    "        f1 = f1_score(labels, preds)\n",
    "        precision = precision_score(labels, preds)\n",
    "        recall = recall_score(labels, preds)\n",
    "        return {\n",
    "            'accuracy': acc,\n",
    "            'f1': f1,\n",
    "            'precision': precision,\n",
    "            'recall': recall\n",
    "        }\n",
    "    \n",
    "    class MultilabelTrainer(Trainer):\n",
    "        def compute_loss(self, model, inputs, return_outputs=False):\n",
    "            # (*, 1)\n",
    "            labels = inputs.pop(\"labels\")\n",
    "            outputs = model(**inputs)\n",
    "            # (*, 2)\n",
    "            logits = outputs.logits\n",
    "            loss_fct = nn.CrossEntropyLoss()\n",
    "            loss = loss_fct(logits.view(-1, 2), labels.view(-1))\n",
    "            return (loss, outputs) if return_outputs else loss\n",
    "            \n",
    "    \n",
    "    trainer = MultilabelTrainer(\n",
    "        model=model,\n",
    "        args=training_args,\n",
    "        train_dataset=train_dataset,\n",
    "        eval_dataset=validation_dataset,\n",
    "        compute_metrics=compute_metrics,\n",
    "    )\n",
    "    \n",
    "    trainer.train()\n",
    "    \n",
    "    return trainer, model, tokenizer, training_args"
   ]
  },
  {
   "cell_type": "code",
   "execution_count": null,
   "metadata": {},
   "outputs": [],
   "source": [
    "fine_tune_roberta(\n",
    "    model,\n",
    "    tokenizer,\n",
    "    reference,\n",
    "    translation,\n",
    "    \n",
    "    \n",
    ")"
   ]
  }
 ],
 "metadata": {
  "kernelspec": {
   "display_name": "uni",
   "language": "python",
   "name": "python3"
  },
  "language_info": {
   "codemirror_mode": {
    "name": "ipython",
    "version": 3
   },
   "file_extension": ".py",
   "mimetype": "text/x-python",
   "name": "python",
   "nbconvert_exporter": "python",
   "pygments_lexer": "ipython3",
   "version": "3.11.5"
  },
  "orig_nbformat": 4
 },
 "nbformat": 4,
 "nbformat_minor": 2
}
